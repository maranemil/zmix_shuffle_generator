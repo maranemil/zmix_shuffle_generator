{
 "cells": [
  {
   "cell_type": "code",
   "execution_count": null,
   "id": "70722fbf",
   "metadata": {},
   "outputs": [],
   "source": [
    "!pip install torch -q\n",
    "!pip install torchaudio -q\n",
    "!pip install boto3 -q\n",
    "!pip install matplotlib -q\n",
    "!pip install librosa -q\n",
    "!pip install pydub -q"
   ]
  },
  {
   "cell_type": "code",
   "execution_count": null,
   "id": "0fd023c6",
   "metadata": {},
   "outputs": [],
   "source": [
    "import torch\n",
    "import torchaudio\n",
    "\n",
    "import io\n",
    "import os\n",
    "import tarfile\n",
    "import tempfile\n",
    "\n",
    "import boto3\n",
    "import matplotlib.pyplot as plt\n",
    "import requests\n",
    "from botocore import UNSIGNED\n",
    "from botocore.config import Config\n",
    "from IPython.display import Audio\n",
    "#from torchaudio.utils import download_asset\n",
    "\n",
    "import numpy\n",
    "\n",
    "\n",
    "print(torch.__version__)\n",
    "print(torchaudio.__version__)\n",
    "# python -m torch.utils.collect_env"
   ]
  },
  {
   "cell_type": "code",
   "execution_count": null,
   "id": "f352245d",
   "metadata": {},
   "outputs": [],
   "source": [
    "try:\n",
    "    from torchaudio.io import StreamReader\n",
    "except ModuleNotFoundError:\n",
    "    try:\n",
    "        import google.colab\n",
    "\n",
    "        print(\n",
    "            \"\"\"\n",
    "            To enable running this notebook in Google Colab, install the requisite\n",
    "            third party libraries by running the following code:\n",
    "\n",
    "            !add-apt-repository -y ppa:savoury1/ffmpeg4\n",
    "            !apt-get -qq install -y ffmpeg\n",
    "            \"\"\"\n",
    "        )\n",
    "    except ModuleNotFoundError:\n",
    "        pass\n",
    "    raise\n",
    "\n",
    "import matplotlib.pyplot as plt"
   ]
  },
  {
   "cell_type": "code",
   "execution_count": null,
   "id": "db351f79",
   "metadata": {},
   "outputs": [],
   "source": [
    "# https://pytorch.org/audio/stable/utils.html\n",
    "# https://github.com/pytorch/audio/issues/260\n",
    "# https://codesuche.com/python-examples/torchaudio.info/\n",
    "# https://curso-r.github.io/torchaudio/reference/index.html\n",
    "print(torchaudio.utils.sox_utils.list_effects().keys())"
   ]
  },
  {
   "cell_type": "code",
   "execution_count": null,
   "id": "08154793",
   "metadata": {},
   "outputs": [],
   "source": [
    "sample_rate = 32000\n",
    "audio_file = \"audio.wav\"\n",
    "waveform, sample_rate  = torchaudio.load(audio_file)\n",
    "#waveform = get_sine_sweep(sample_rate)\n",
    "#waveform2 = waveform.repeat(3,5)\n",
    "#plot_sweep(waveform, sample_rate, title=\"Original Waveform\")\n",
    "Audio(waveform.numpy()[0], rate=sample_rate)"
   ]
  },
  {
   "cell_type": "code",
   "execution_count": null,
   "id": "ac989345",
   "metadata": {},
   "outputs": [],
   "source": [
    "# http://sox.sourceforge.net/sox.html\n",
    "# https://curso-r.github.io/torchaudio/reference/index.html\n",
    "\n",
    "del waveform3\n",
    "effects = [\n",
    "  ['rate', '16000'],  # resample to 32000 Hz \n",
    "  #['remix','1,2i 1,2i'], # oops effect. 1,2i 1,2i oops\n",
    "  #['remix', '-'],  # merge all the channels\n",
    "  ['flanger','1','2','0','71'],\n",
    "  ['phaser','0.8', '0.74', '3', '0.4', '0.5'],\n",
    "  #['tremolo','290'],\n",
    "  #[\"reverb\", \"3\"],  # Reverbration 0- 100    \n",
    "  [\"channels\", '1'], # 2 \n",
    "  ['hilbert','-n','75'],\n",
    "  #['pitch','10','20'],\n",
    "  #['contrast','25'],\n",
    "  #['echo', '0.1', '0.2', '6', '0.4'],\n",
    "  #['echos', '0.1', '0.3', '700', '0.5', '700', '0.3'],    \n",
    "  #[\"bandpass\", '100','1200' '0.707'],\n",
    "  #[\"biquad\", \"0.25136437\", \"0.50272873\", \"0.25136437\",\"1.0\", \"-0.17123075\", \"0.17668821\"],    \n",
    "  #[\"band\", \"-n\", \"100\", \"600\"],\n",
    "  #['chorus','.5', '.7', '55', '0.4', '.25', '2', '-s'],    \n",
    "  #['speed','0.995'],\n",
    "  #['highpass',\"-1\",'60'],\n",
    "  #[\"speed\", randspeed],  # reduce the speed\n",
    "  ['overdrive','1.9'],\n",
    "  ['vol','0.05'],\n",
    "  ['treble', '+4'],  \n",
    "  ['bass', '+6'],\n",
    "  #['stretch','0.98'],\n",
    "  #['tempo','4.5'], \n",
    "  #[\"lowpass\", \"-1\", \"350\"],    \n",
    "  ['gain', '-n','-0.1'],\n",
    "  #['pad', '0', '1.5'],  # add 1.5 seconds silence at the end\n",
    "  #['trim', '0', '1'],  # get the first 2 seconds \n",
    "]\n",
    "waveform3, sample_rate = torchaudio.sox_effects.apply_effects_tensor(\n",
    "    waveform, sample_rate, effects)\n",
    "#play_audio(waveform3, sample_rate)\n",
    "Audio(waveform3.numpy()[0], rate=32000)\n",
    "torchaudio.save('waveform3.wav', waveform3, 32000)"
   ]
  },
  {
   "cell_type": "code",
   "execution_count": null,
   "id": "d0c1827e",
   "metadata": {},
   "outputs": [],
   "source": []
  },
  {
   "cell_type": "code",
   "execution_count": null,
   "id": "30dafbc3",
   "metadata": {},
   "outputs": [],
   "source": []
  },
  {
   "cell_type": "code",
   "execution_count": null,
   "id": "fdcaac12",
   "metadata": {},
   "outputs": [],
   "source": []
  }
 ],
 "metadata": {
  "kernelspec": {
   "display_name": "Python 3 (ipykernel)",
   "language": "python",
   "name": "python3"
  },
  "language_info": {
   "codemirror_mode": {
    "name": "ipython",
    "version": 3
   },
   "file_extension": ".py",
   "mimetype": "text/x-python",
   "name": "python",
   "nbconvert_exporter": "python",
   "pygments_lexer": "ipython3",
   "version": "3.10.4"
  }
 },
 "nbformat": 4,
 "nbformat_minor": 5
}
